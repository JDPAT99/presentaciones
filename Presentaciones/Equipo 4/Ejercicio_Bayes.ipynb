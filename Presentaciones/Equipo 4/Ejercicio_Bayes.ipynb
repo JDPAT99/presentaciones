{
 "cells": [
  {
   "cell_type": "markdown",
   "metadata": {},
   "source": [
    " ## <center> Naive Bayes Classifier </center>"
   ]
  },
  {
   "cell_type": "markdown",
   "metadata": {},
   "source": [
    "El teorema de Bayes es una ecuación que describe **la relación de probabilidades condicionales de cantidades estadísticas**.\n",
    "\n",
    "En clasificación bayesiana estamos interesados en encontrar la probabilidad de que ocurra una “clase” dadas unas características observadas (datos). Lo podemos escribir como **P( Clase | Datos)**. El teorema de Bayes nos dice cómo lo podemos expresar en términos de cantidades que podemos calcular directamente:"
   ]
  },
  {
   "cell_type": "markdown",
   "metadata": {},
   "source": [
    "<h1> \n",
    "    $$ \\frac {P(Comprar|Datos)}\n",
    "        {P(Alquilar|Datos)}\n",
    "                = \\frac{P(Datos|Comprar) * P(Comprar)}\n",
    "                                     {P(Datos|Alquilar) * P(Alquilar)}$$</h1>"
   ]
  },
  {
   "cell_type": "markdown",
   "metadata": {},
   "source": [
    "con esta maniobra, nos deshacemos del denominador de la ecuación anterior P(Datos) el llamado “probabilidad marginal”. "
   ]
  },
  {
   "cell_type": "markdown",
   "metadata": {},
   "source": [
    "<h1>\n",
    "    $$posterior(comprar) \n",
    "                = \\frac{P(comprar)p(lngresos|comprar)p(ahorros|comprar)p(hijos|comprar)}\n",
    "                                        {probabilidadmarginal}$$</h1>"
   ]
  },
  {
   "cell_type": "markdown",
   "metadata": {},
   "source": [
    "<h1>\n",
    "    $$posterior(alquilar) \n",
    "                =\\frac{P(alquilar)p(lngresos|alquilar)p(ahorros|alquilar)p(hijos|alquilar)}\n",
    "                                        {probabilidad marginal}$$</h1>"
   ]
  },
  {
   "cell_type": "markdown",
   "metadata": {},
   "source": [
    "Posterior de comprar es lo que queremos hallar: P(comprar|datos)."
   ]
  },
  {
   "cell_type": "markdown",
   "metadata": {},
   "source": [
    " ## <center> Ejercicio Machine Learning: Gaussian Naive Bayes </center>"
   ]
  },
  {
   "cell_type": "markdown",
   "metadata": {},
   "source": [
    "## ¿Comprar o alquilar casa? ¿Qué me conviene?"
   ]
  },
  {
   "cell_type": "markdown",
   "metadata": {},
   "source": [
    "En este ejercicio, usaremos el algoritmo de Gaussian Naive Bayes para decidir si nos conviene Alguilar o Comprar una casa "
   ]
  },
  {
   "cell_type": "code",
   "execution_count": null,
   "metadata": {
    "ExecuteTime": {
     "end_time": "2018-08-18T21:55:10.328067Z",
     "start_time": "2018-08-18T21:55:10.319427Z"
    }
   },
   "outputs": [],
   "source": [
    "import pandas as pd\n",
    "import numpy as np\n",
    "import matplotlib.pyplot as plt\n",
    "from matplotlib import colors\n",
    "import seaborn as sb\n",
    "\n",
    "%matplotlib inline\n",
    "plt.rcParams['figure.figsize'] = (16, 9)\n",
    "plt.style.use('ggplot')\n",
    "\n",
    "from sklearn.model_selection import train_test_split\n",
    "from sklearn.metrics import classification_report\n",
    "from sklearn.metrics import confusion_matrix\n",
    "from sklearn.naive_bayes import GaussianNB\n",
    "from sklearn.feature_selection import SelectKBest"
   ]
  },
  {
   "cell_type": "markdown",
   "metadata": {
    "ExecuteTime": {
     "end_time": "2018-08-19T08:23:37.245939Z",
     "start_time": "2018-08-19T08:23:37.242853Z"
    }
   },
   "source": [
    "## Importemos Datos de entrada"
   ]
  },
  {
   "cell_type": "markdown",
   "metadata": {},
   "source": [
    "REFERENCIAS: \n",
    "\n",
    "Ingresos y gastos son mensuales de 1 personas o 2 si están casados.\n",
    "\n",
    "Trabajo: \n",
    "0-sin trabajo \n",
    "1-autonomo, \n",
    "2-asalariado, \n",
    "3-empresario, \n",
    "4-Autonomos, \n",
    "5-Asalariados, \n",
    "6-Autonomo y Asalariado, \n",
    "7-Empresario y Autonomo, \n",
    "8-Empresarios o empresario y autónomo.\n",
    "\n",
    "Estado_civil: 0-soltero 1-casado 2-divorciado\n",
    "\n",
    "Hijos: Cantidad de hijos menores (no trabajan)\n",
    "\n",
    "Comprar: 0-mejor alquilar 1-Comprar casa.\n",
    "\n",
    "Hipoteca fija a 30 años con interes."
   ]
  },
  {
   "cell_type": "code",
   "execution_count": null,
   "metadata": {
    "ExecuteTime": {
     "end_time": "2018-08-18T21:54:53.166251Z",
     "start_time": "2018-08-18T21:54:53.105231Z"
    }
   },
   "outputs": [],
   "source": [
    "dataframe = pd.read_csv(r\"comprar_alquilar.csv\")\n",
    "dataframe.head(10)\n"
   ]
  },
  {
   "cell_type": "markdown",
   "metadata": {},
   "source": [
    "*cantidad de muestras de comprar o alquilar tenemos:*"
   ]
  },
  {
   "cell_type": "code",
   "execution_count": null,
   "metadata": {
    "ExecuteTime": {
     "end_time": "2018-08-18T21:54:54.042402Z",
     "start_time": "2018-08-18T21:54:54.034067Z"
    }
   },
   "outputs": [],
   "source": [
    "print(dataframe.groupby('comprar').size())"
   ]
  },
  {
   "cell_type": "markdown",
   "metadata": {},
   "source": [
    "*histograma de las características quitando la columna de resultados (comprar):*"
   ]
  },
  {
   "cell_type": "code",
   "execution_count": null,
   "metadata": {
    "ExecuteTime": {
     "end_time": "2018-08-19T08:13:09.135935Z",
     "start_time": "2018-08-19T08:13:07.602201Z"
    }
   },
   "outputs": [],
   "source": [
    "dataframe.drop(['comprar'], axis=1).hist()\n",
    "plt.show()"
   ]
  },
  {
   "cell_type": "markdown",
   "metadata": {},
   "source": [
    "# Preprocesamos los datos"
   ]
  },
  {
   "cell_type": "markdown",
   "metadata": {},
   "source": [
    "Creamos 2 columnas nuevas. En una agrupamos:\n",
    "\n",
    "-los gastos mensuales \n",
    "\n",
    "-el monto a financiar para comprar la casa"
   ]
  },
  {
   "cell_type": "code",
   "execution_count": null,
   "metadata": {
    "ExecuteTime": {
     "end_time": "2018-08-22T20:39:56.659456Z",
     "start_time": "2018-08-22T20:39:56.223886Z"
    }
   },
   "outputs": [],
   "source": [
    "dataframe['gastos']=(dataframe['gastos_comunes']+dataframe['gastos_otros']+dataframe['pago_coche'])\n",
    "dataframe['financiar']=dataframe['vivienda']-dataframe['ahorros']\n",
    "dataframe.drop(['gastos_comunes','gastos_otros','pago_coche'], axis=1).head(10)"
   ]
  },
  {
   "cell_type": "markdown",
   "metadata": {},
   "source": [
    "### Información estadística de los datos"
   ]
  },
  {
   "cell_type": "code",
   "execution_count": null,
   "metadata": {
    "ExecuteTime": {
     "end_time": "2018-08-18T21:54:54.158813Z",
     "start_time": "2018-08-18T21:54:54.095584Z"
    }
   },
   "outputs": [],
   "source": [
    "reduced = dataframe.drop(['gastos_comunes','gastos_otros','pago_coche'], axis=1)\n",
    "reduced.describe()"
   ]
  },
  {
   "cell_type": "markdown",
   "metadata": {},
   "source": [
    "## Feature Selection\n",
    "Selección de las características de entrada."
   ]
  },
  {
   "cell_type": "markdown",
   "metadata": {},
   "source": [
    "### Veamos la correlación entre columnas"
   ]
  },
  {
   "cell_type": "code",
   "execution_count": null,
   "metadata": {
    "ExecuteTime": {
     "end_time": "2018-08-18T21:54:54.819313Z",
     "start_time": "2018-08-18T21:54:54.161490Z"
    }
   },
   "outputs": [],
   "source": [
    "colormap = plt.cm.viridis\n",
    "plt.figure(figsize=(12,12))\n",
    "plt.title('Correlación de características de Pearson', y=1.05, size=15)\n",
    "sb.heatmap(reduced.astype(float).corr(),linewidths=0.1,vmax=1.0, square=True, cmap=colormap, linecolor='white', annot=True)"
   ]
  },
  {
   "cell_type": "markdown",
   "metadata": {},
   "source": [
    "Usemos la clase SelectKBest de SkLearn para elegir las 5 mejores características a usar."
   ]
  },
  {
   "cell_type": "code",
   "execution_count": null,
   "metadata": {
    "ExecuteTime": {
     "end_time": "2018-08-18T21:54:54.834007Z",
     "start_time": "2018-08-18T21:54:54.821881Z"
    }
   },
   "outputs": [],
   "source": [
    "X=dataframe.drop(['comprar'], axis=1)\n",
    "y=dataframe['comprar']\n",
    "\n",
    "best=SelectKBest(k=5)\n",
    "X_new = best.fit_transform(X, y)\n",
    "X_new.shape\n",
    "selected = best.get_support(indices=True)\n",
    "print(X.columns[selected])"
   ]
  },
  {
   "cell_type": "markdown",
   "metadata": {},
   "source": [
    "Veamos la correlación entre las 5 mejores Features"
   ]
  },
  {
   "cell_type": "code",
   "execution_count": null,
   "metadata": {
    "ExecuteTime": {
     "end_time": "2018-08-18T21:54:55.242251Z",
     "start_time": "2018-08-18T21:54:54.837526Z"
    }
   },
   "outputs": [],
   "source": [
    "used_features =X.columns[selected]\n",
    "\n",
    "colormap = plt.cm.viridis\n",
    "plt.figure(figsize=(12,12))\n",
    "plt.title('Correlación de características de Pearson', y=1.05, size=15)\n",
    "sb.heatmap(dataframe[used_features].astype(float).corr(),linewidths=0.1,vmax=1.0, square=True, cmap=colormap, linecolor='white', annot=True)"
   ]
  },
  {
   "cell_type": "code",
   "execution_count": null,
   "metadata": {
    "ExecuteTime": {
     "end_time": "2018-08-18T21:55:00.623451Z",
     "start_time": "2018-08-18T21:54:55.245063Z"
    }
   },
   "outputs": [],
   "source": [
    "sb.pairplot(dataframe, hue='comprar',size=4,vars=used_features,kind='scatter')"
   ]
  },
  {
   "cell_type": "markdown",
   "metadata": {},
   "source": [
    "# Creamos el modelo de Gaussian Naive Bayes"
   ]
  },
  {
   "cell_type": "markdown",
   "metadata": {},
   "source": [
    "Dividimos en un set de Entrenamiento y otro de Test con el 20% de las entradas"
   ]
  },
  {
   "cell_type": "code",
   "execution_count": null,
   "metadata": {
    "ExecuteTime": {
     "end_time": "2018-08-18T21:55:00.635482Z",
     "start_time": "2018-08-18T21:55:00.625606Z"
    }
   },
   "outputs": [],
   "source": [
    "# Split dataset in training and test datasets\n",
    "X_train, X_test = train_test_split(dataframe, test_size=0.2, random_state=6) \n",
    "y_train =X_train[\"comprar\"]\n",
    "y_test = X_test[\"comprar\"]"
   ]
  },
  {
   "cell_type": "markdown",
   "metadata": {},
   "source": [
    "Entrenamos el modelo"
   ]
  },
  {
   "cell_type": "code",
   "execution_count": null,
   "metadata": {
    "ExecuteTime": {
     "end_time": "2018-08-19T08:14:49.039372Z",
     "start_time": "2018-08-19T08:14:49.030351Z"
    }
   },
   "outputs": [],
   "source": [
    "# Instantiate the classifier\n",
    "gnb = GaussianNB()\n",
    "# Train classifier\n",
    "gnb.fit(\n",
    "    X_train[used_features].values,\n",
    "    y_train\n",
    ")\n",
    "y_pred = gnb.predict(X_test[used_features])"
   ]
  },
  {
   "cell_type": "markdown",
   "metadata": {},
   "source": [
    "# Resultados"
   ]
  },
  {
   "cell_type": "code",
   "execution_count": null,
   "metadata": {
    "ExecuteTime": {
     "end_time": "2018-08-19T08:42:45.867425Z",
     "start_time": "2018-08-19T08:42:45.857279Z"
    }
   },
   "outputs": [],
   "source": [
    "print('Precisión en el set de Entrenamiento: {:.2f}'\n",
    "     .format(gnb.score(X_train[used_features], y_train)))\n",
    "print('Precisión en el set de Test: {:.2f}'\n",
    "     .format(gnb.score(X_test[used_features], y_test))) "
   ]
  },
  {
   "cell_type": "code",
   "execution_count": null,
   "metadata": {
    "ExecuteTime": {
     "end_time": "2018-08-19T08:43:37.400729Z",
     "start_time": "2018-08-19T08:43:37.394676Z"
    }
   },
   "outputs": [],
   "source": [
    "# Print Test results\n",
    "print(\"Total de Muestras en Test: {}\\nFallos: {}\"\n",
    "      .format(\n",
    "          X_test.shape[0],\n",
    "          (y_test != y_pred).sum()\n",
    "))"
   ]
  },
  {
   "cell_type": "code",
   "execution_count": null,
   "metadata": {
    "ExecuteTime": {
     "end_time": "2018-08-18T21:55:00.673565Z",
     "start_time": "2018-08-18T21:55:00.658890Z"
    }
   },
   "outputs": [],
   "source": [
    "print(confusion_matrix(y_test, y_pred))\n",
    "print(classification_report(y_test, y_pred))"
   ]
  },
  {
   "cell_type": "markdown",
   "metadata": {},
   "source": [
    "## Nuevas Predicciones"
   ]
  },
  {
   "cell_type": "markdown",
   "metadata": {},
   "source": [
    "Hagamos 2 pruebas a modo de ejemplo en las que el algoritmo nos recomienda Alquilar (0) y Comprar (1) en el 2do caso"
   ]
  },
  {
   "cell_type": "markdown",
   "metadata": {},
   "source": [
    "+ En un caso será una familia sin hijos con 2000  de ingresos que quiere comprar una casa de 200000 y tiene sólo 5000 ahorrados.\n",
    "+ El otro será una familia con 2 hijos con ingresos por 6000 al mes, 34000 en ahorros y consultan si comprar una casa de 320000."
   ]
  },
  {
   "cell_type": "code",
   "execution_count": null,
   "metadata": {
    "ExecuteTime": {
     "end_time": "2018-08-18T21:55:00.705674Z",
     "start_time": "2018-08-18T21:55:00.696867Z"
    }
   },
   "outputs": [],
   "source": [
    "#                 ['ingresos', 'ahorros', 'hijos', 'trabajo', 'financiar']\n",
    "print(gnb.predict([[2000,        5000,     0,       5,         200000],\n",
    "                   [6000,        34000,    2,       5,         320000] ]))\n",
    "#Resultado esperado 0-Alquilar, 1-Comprar casa"
   ]
  },
  {
   "cell_type": "markdown",
   "metadata": {},
   "source": [
    "Los resultados son los esperados, en el primer caso, recomienda Alquilar (0) y en el segundo comprar la casa (1)."
   ]
  },
  {
   "cell_type": "markdown",
   "metadata": {},
   "source": [
    "**EJERCICIO RESOLVER COMO EJEMPLO** "
   ]
  },
  {
   "cell_type": "markdown",
   "metadata": {},
   "source": [
    "+ Caso 1: una familia con **5** hijos con 10000  de ingresos que quiere comprar una casa de 500000 y tiene sólo 20000 ahorrados.\n",
    "+ Caso 2: una familia con **1** hijo con ingresos de 8000 al mes, 60000 en ahorros y consultan si comprar una casa de 100000 \n",
    "+ Caso 3: una familia **sin** hijo con ingresos de 15000 al mes, 40000 en ahorros y consultan si comprar una casa de 150000"
   ]
  },
  {
   "cell_type": "code",
   "execution_count": null,
   "metadata": {},
   "outputs": [],
   "source": []
  },
  {
   "cell_type": "code",
   "execution_count": null,
   "metadata": {},
   "outputs": [],
   "source": []
  }
 ],
 "metadata": {
  "kernelspec": {
   "display_name": "Python 3",
   "language": "python",
   "name": "python3"
  },
  "language_info": {
   "codemirror_mode": {
    "name": "ipython",
    "version": 3
   },
   "file_extension": ".py",
   "mimetype": "text/x-python",
   "name": "python",
   "nbconvert_exporter": "python",
   "pygments_lexer": "ipython3",
   "version": "3.8.3"
  }
 },
 "nbformat": 4,
 "nbformat_minor": 4
}
